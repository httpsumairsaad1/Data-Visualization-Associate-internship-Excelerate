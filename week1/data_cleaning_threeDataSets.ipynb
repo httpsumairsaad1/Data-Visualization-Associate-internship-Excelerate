{
  "nbformat": 4,
  "nbformat_minor": 0,
  "metadata": {
    "colab": {
      "provenance": []
    },
    "kernelspec": {
      "name": "python3",
      "display_name": "Python 3"
    },
    "language_info": {
      "name": "python"
    }
  },
  "cells": [
    {
      "cell_type": "markdown",
      "source": [
        "# **Applicant_Data_Clean**"
      ],
      "metadata": {
        "id": "dI7Ii00m6jpW"
      }
    },
    {
      "cell_type": "code",
      "execution_count": 1,
      "metadata": {
        "colab": {
          "base_uri": "https://localhost:8080/"
        },
        "id": "780J3O7j3rhn",
        "outputId": "3188f866-0e1c-4412-f14e-ae574cf3fb62"
      },
      "outputs": [
        {
          "output_type": "stream",
          "name": "stdout",
          "text": [
            "Requirement already satisfied: openpyxl in /usr/local/lib/python3.12/dist-packages (3.1.5)\n",
            "Requirement already satisfied: et-xmlfile in /usr/local/lib/python3.12/dist-packages (from openpyxl) (2.0.0)\n",
            "🔎 BEFORE CLEANING\n",
            "Shape: (37882, 4)\n",
            "\n",
            "Missing values per column:\n",
            " App_ID          1\n",
            "Country         0\n",
            "University      0\n",
            "Phone_Number    0\n",
            "dtype: int64\n",
            "\n",
            "Duplicate rows: 16489\n",
            "\n",
            "Unique values in 'Country':\n",
            " ['India' 'Nigeria' 'saarthaksingh05@gmail.com' 'satya.sai1881@gmail.com'\n",
            " 'sharmaishaan16@gmail.com' 'pillir1026@outlook.com'\n",
            " 'shalinidec05@gmail.com' 'rameshpriyanka536@gmail.com'\n",
            " 'samjainsamj16@gmail.com' 'ratneshry06@gmail.com']\n",
            "\n",
            "Unique values in 'University':\n",
            " ['Illinois Institute of Technology']\n",
            "\n",
            "✅ AFTER CLEANING\n",
            "Shape: (16640, 3)\n",
            "\n",
            "Missing values per column:\n",
            " App_ID          0\n",
            "Country         0\n",
            "Phone_Number    0\n",
            "dtype: int64\n",
            "\n",
            "Duplicate rows: 949\n",
            "\n",
            "Unique values in 'Country':\n",
            " ['India' 'Nigeria' 'Na' 'Naq' 'Taiwan' 'Pakistan' 'Bangladesh' 'China'\n",
            " 'Afghanistan' 'Azerbaijan']\n",
            "\n",
            "📂 Cleaned dataset saved as 'ApplicantData_Clean.xlsx'\n"
          ]
        }
      ],
      "source": [
        "# Step 1: Install required package\n",
        "!pip install openpyxl\n",
        "\n",
        "# Step 2: Import libraries\n",
        "import pandas as pd\n",
        "\n",
        "# Step 3: Load dataset\n",
        "df = pd.read_excel(\"ApplicantData.xlsx\")\n",
        "\n",
        "# ------------------ BEFORE CLEANING ------------------\n",
        "print(\"🔎 BEFORE CLEANING\")\n",
        "print(\"Shape:\", df.shape)  # rows, columns\n",
        "print(\"\\nMissing values per column:\\n\", df.isnull().sum())\n",
        "print(\"\\nDuplicate rows:\", df.duplicated().sum())\n",
        "print(\"\\nUnique values in 'Country':\\n\", df['Country'].unique()[:10])  # show first 10\n",
        "print(\"\\nUnique values in 'University':\\n\", df['University'].unique())\n",
        "\n",
        "# ------------------ CLEANING ------------------\n",
        "# 1. Drop rows with missing App_ID\n",
        "df = df.dropna(subset=['App_ID'])\n",
        "\n",
        "# 2. Remove duplicates\n",
        "df = df.drop_duplicates()\n",
        "\n",
        "# 3. Fix Country column (remove emails, keep only alphabetic entries)\n",
        "df['Country'] = df['Country'].astype(str)\n",
        "df['Country'] = df['Country'].apply(lambda x: x if x.isalpha() else None)\n",
        "\n",
        "# 4. Remove rows where Country is still None after cleaning\n",
        "df = df.dropna(subset=['Country'])\n",
        "\n",
        "# 5. Standardize text casing\n",
        "df['Country'] = df['Country'].str.title().str.strip()\n",
        "\n",
        "# 6. Clean App_ID (remove backticks/spaces)\n",
        "df['App_ID'] = df['App_ID'].astype(str).str.replace(r\"[^A-Za-z0-9]\", \"\", regex=True)\n",
        "\n",
        "# 7. Standardize phone numbers (keep only digits)\n",
        "df['Phone_Number'] = df['Phone_Number'].astype(str).str.replace(r\"\\D\", \"\", regex=True)\n",
        "\n",
        "# 8. Drop University column if redundant\n",
        "if df['University'].nunique() == 1:\n",
        "    df = df.drop(columns=['University'])\n",
        "\n",
        "# ------------------ AFTER CLEANING ------------------\n",
        "print(\"\\n✅ AFTER CLEANING\")\n",
        "print(\"Shape:\", df.shape)\n",
        "print(\"\\nMissing values per column:\\n\", df.isnull().sum())\n",
        "print(\"\\nDuplicate rows:\", df.duplicated().sum())\n",
        "print(\"\\nUnique values in 'Country':\\n\", df['Country'].unique()[:10])\n",
        "\n",
        "# ------------------ SAVE CLEAN FILE ------------------\n",
        "df.to_excel(\"ApplicantData_Clean.xlsx\", index=False)\n",
        "\n",
        "print(\"\\n📂 Cleaned dataset saved as 'ApplicantData_Clean.xlsx'\")\n"
      ]
    },
    {
      "cell_type": "markdown",
      "source": [
        "# **OutreachData_Before**"
      ],
      "metadata": {
        "id": "KXnVlM2W67MS"
      }
    },
    {
      "cell_type": "code",
      "source": [
        "import pandas as pd\n",
        "\n",
        "# Load dataset\n",
        "df = pd.read_excel(\"OutreachData.xlsx\")\n",
        "\n",
        "# ----- BEFORE CLEANING -----\n",
        "before_shape = df.shape\n",
        "before_missing = df.isnull().sum()\n",
        "before_duplicates = df.duplicated().sum()\n",
        "df.to_excel(\"OutreachData_Before.xlsx\", index=False)\n",
        "\n",
        "# ----- CLEANING -----\n",
        "df = df.dropna(subset=['Reference_ID'])\n",
        "df = df.drop_duplicates()\n",
        "df['Caller_Name'] = df['Caller_Name'].astype(str).str.title().str.strip()\n",
        "df['Outcome_1'] = df['Outcome_1'].astype(str).str.strip().str.lower()\n",
        "df['Recieved_At'] = pd.to_datetime(df['Recieved_At'], errors='coerce')\n",
        "df = df.dropna(subset=['Recieved_At'])\n",
        "df['Remark'] = df['Remark'].astype(str).str.strip().str.capitalize()\n",
        "df['University'] = df['University'].astype(str).str.title().str.strip()\n",
        "\n",
        "# ----- AFTER CLEANING -----\n",
        "after_shape = df.shape\n",
        "after_missing = df.isnull().sum()\n",
        "after_duplicates = df.duplicated().sum()\n",
        "df.to_excel(\"outreach_data_clean.xlsx\", index=False)\n",
        "\n",
        "# ----- RESULTS -----\n",
        "print(\"Before Cleaning:\")\n",
        "print(\"Shape:\", before_shape)\n",
        "print(\"Missing Values:\\n\", before_missing)\n",
        "print(\"Duplicates:\", before_duplicates)\n",
        "\n",
        "print(\"\\nAfter Cleaning:\")\n",
        "print(\"Shape:\", after_shape)\n",
        "print(\"Missing Values:\\n\", after_missing)\n",
        "print(\"Duplicates:\", after_duplicates)\n"
      ],
      "metadata": {
        "colab": {
          "base_uri": "https://localhost:8080/"
        },
        "id": "SAu24D_T7Cy9",
        "outputId": "3c1216c0-93f5-4c6f-cb10-4c86981fea8c"
      },
      "execution_count": 2,
      "outputs": [
        {
          "output_type": "stream",
          "name": "stdout",
          "text": [
            "Before Cleaning:\n",
            "Shape: (37881, 8)\n",
            "Missing Values:\n",
            " Reference_ID               0\n",
            "Recieved_At                0\n",
            "University                 0\n",
            "Caller_Name                0\n",
            "Outcome_1                  0\n",
            "Remark                 33804\n",
            "Campaign_ID                0\n",
            "Escalation_Required        0\n",
            "dtype: int64\n",
            "Duplicates: 446\n",
            "\n",
            "After Cleaning:\n",
            "Shape: (37435, 8)\n",
            "Missing Values:\n",
            " Reference_ID           0\n",
            "Recieved_At            0\n",
            "University             0\n",
            "Caller_Name            0\n",
            "Outcome_1              0\n",
            "Remark                 0\n",
            "Campaign_ID            0\n",
            "Escalation_Required    0\n",
            "dtype: int64\n",
            "Duplicates: 0\n"
          ]
        }
      ]
    },
    {
      "cell_type": "markdown",
      "source": [
        "# **Campaign_Data_Clean**"
      ],
      "metadata": {
        "id": "_VO-LKgn7Z0v"
      }
    },
    {
      "cell_type": "code",
      "source": [
        "import pandas as pd\n",
        "from io import BytesIO\n",
        "\n",
        "# Raw data provided by user\n",
        "data = \"\"\"ID\tName\tCategory\tIntake\tUniversity\tStatus\tStart_Date\n",
        "AANF23\tGR GS FA24 Campaign- Admit, No Deposit\tPost Admission\tAY2024\tIllinois Institute of Technology\tCompleted\t3/20/2024 0:00\n",
        "AND23\tGR GS FA24 Campaign- Deposit No Action\tPost Admission\tAY2024\tIllinois Institute of Technology\tCompleted\t9/11/2024 00:00\n",
        "BPNANF23\tGR GS FA24 Campaign- Deposit, No I-20\tPost Admission\tAY2024\tIllinois Institute of Technology\tCompleted\t7/11/2024 00:00\n",
        "BPNND23\tGR GS FA24 Campaign- In Progress\tPre Admission\tAY2024\tIllinois Institute of Technology\tCompleted\t3/6/2024 00:00\n",
        "CTKANF23\tGR GS FA24 Campaign- Submit, Incomplete\tPre Admission\tAY2024\tIllinois Institute of Technology\tCompleted\t3/8/2024 00:00\n",
        "DANE24\tGR GS Call Campaign: India ANF\tPre Admission\tAY2024\tIllinois Institute of Technology\tCompleted\t4/28/2023 0:00\n",
        "DNA24\tGR GS Call Campaign: India No Deposit\tPost Admission\tAY2024\tIllinois Institute of Technology\tCompleted\t7/3/2023 00:00\n",
        "FA24AND\tGR GS Call Campaign: Other ANF\tPost Admission\tAY2024\tIllinois Institute of Technology\tCompleted\t5/16/2023 0:00\n",
        "FA24DNA\tGR GS Call Campaign: Other No Deposit\tPost Admission\tAY2024\tIllinois Institute of Technology\tCompleted\t7/5/2023 00:00\n",
        "FA24DNI\tGR GS SP25 Campaign- All I-20s Sent\tPost Admission\tAY2024\tIllinois Institute of Technology\tCompleted\t12/5/2024 00:00\n",
        "FA24IP\tGR GS SP25 Campaign- Admit, No Deposit\tPost Admission\tAY2024\tIllinois Institute of Technology\tCompleted\t10/9/2024 00:00\n",
        "FA24SIC\tGR GS SP25 Campaign- Deposit, No I-20\tPost Admission\tAY2024\tIllinois Institute of Technology\tCompleted\t10/22/2024 0:00\n",
        "IANF23\tGR GS SP25 Campaign- Deferrals to SP25\tPost Admission\tAY2024\tIllinois Institute of Technology\tCompleted\t11/5/2024 00:00\n",
        "IND23\tGR GS SP25 Campaign- In Progress\tPre Admission\tAY2024\tIllinois Institute of Technology\tCompleted\t10/7/2024 00:00\n",
        "OANF23\tGR GS SP25 Campaign- New Inquiry\tPre Admission\tAY2024\tIllinois Institute of Technology\tCompleted\t10/18/2024 0:00\n",
        "OND23\tGR GS SP25 Campaign- Submitted, Incomplete\tPre Admission\tAY2024\tIllinois Institute of Technology\tCompleted\t10/9/2024 0:00\n",
        "SP25AI2S\tGR GS Call Campaign: Africa ANF\tPre Admission\tAY2024\tIllinois Institute of Technology\tCompleted\t5/18/2023 0:00\n",
        "SP25AND\tGR GS Call Campaign: Africa No Deposit\tPost Admission\tAY2024\tIllinois Institute of Technology\tCompleted\t7/5/2023 00:00\n",
        "SP25DN1\tGR GS Call Campaign: Bangladesh, Pakistan, Nepal ANF\tPre Admission\tAY2024\tIllinois Institute of Technology\tCompleted\t5/16/2023 0:00\n",
        "SP25DSP\tGR GS Call Campaign: Bangladesh, Pakistan, Nepal No Deposit\tPost Admission\tAY2024\tIllinois Institute of Technology\tCompleted\t7/5/2023 00:00\n",
        "SP25IP\tGR GS Call Campaign: China, Taiwan, Korea ANF\tPre Admission\tAY2024\tIllinois Institute of Technology\tCompleted\t5/16/2023 0:00\n",
        "SP25NIQ\tDeposit and Advised, Not Enrolled\tPost Admission\tAY2024\tIllinois Institute of Technology\tCompleted\t7/17/2024 0:00\n",
        "SP25SIC\tDeposit, Not Advised\tPost Admission\tAY2024\tIllinois Institute of Technology\tCompleted\t7/17/2024 0:00\"\"\"\n",
        "\n",
        "# Load into DataFrame\n",
        "from io import StringIO\n",
        "df = pd.read_csv(StringIO(data), sep=\"\\t\")\n",
        "\n",
        "# Cleaning process\n",
        "df = df.dropna(subset=['ID', 'Name', 'Start_Date'])\n",
        "df = df.drop_duplicates()\n",
        "df['Category'] = df['Category'].astype(str).str.title().str.strip()\n",
        "df['University'] = df['University'].astype(str).str.title().str.strip()\n",
        "df['Status'] = df['Status'].astype(str).str.lower().str.strip()\n",
        "df['Start_Date'] = pd.to_datetime(df['Start_Date'], errors='coerce')\n",
        "df = df.dropna(subset=['Start_Date'])\n",
        "\n",
        "# Save to Excel in memory\n",
        "output = BytesIO()\n",
        "df.to_excel(output, index=False, engine='openpyxl')\n",
        "output.seek(0)\n"
      ],
      "metadata": {
        "colab": {
          "base_uri": "https://localhost:8080/"
        },
        "id": "FltbY8IU95hH",
        "outputId": "170d8698-d300-44ea-f693-e23a2900d463"
      },
      "execution_count": 12,
      "outputs": [
        {
          "output_type": "execute_result",
          "data": {
            "text/plain": [
              "0"
            ]
          },
          "metadata": {},
          "execution_count": 12
        }
      ]
    },
    {
      "cell_type": "code",
      "source": [
        "df.to_excel(\"campaign_data_clean.xlsx\", index=False)"
      ],
      "metadata": {
        "id": "Xd0D_Thl_Ep7"
      },
      "execution_count": 13,
      "outputs": []
    }
  ]
}